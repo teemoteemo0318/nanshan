{
 "cells": [
  {
   "cell_type": "markdown",
   "metadata": {},
   "source": [
    "### 理賠資料處理"
   ]
  },
  {
   "cell_type": "code",
   "execution_count": 156,
   "metadata": {},
   "outputs": [],
   "source": [
    "%matplotlib inline\n",
    "import pandas as pd\n",
    "import numpy as np\n",
    "import matplotlib.pyplot as plt\n",
    "import calendar\n",
    "import seaborn as sns\n",
    "import datetime as dt"
   ]
  },
  {
   "cell_type": "code",
   "execution_count": 2,
   "metadata": {},
   "outputs": [],
   "source": [
    "df1 = pd.read_excel(\"CLAIM_ACCT_FIN_1.xlsx\")\n",
    "df2 = pd.read_excel(\"CLAIM_ACCT_FIN_2.xlsx\")"
   ]
  },
  {
   "cell_type": "code",
   "execution_count": 3,
   "metadata": {},
   "outputs": [],
   "source": [
    "df2.index = [120000+i for i in range(len(df2))]\n",
    "frames = [df1,df2]\n",
    "df = pd.concat(frames)"
   ]
  },
  {
   "cell_type": "code",
   "execution_count": 208,
   "metadata": {},
   "outputs": [
    {
     "data": {
      "text/html": [
       "<div>\n",
       "<style scoped>\n",
       "    .dataframe tbody tr th:only-of-type {\n",
       "        vertical-align: middle;\n",
       "    }\n",
       "\n",
       "    .dataframe tbody tr th {\n",
       "        vertical-align: top;\n",
       "    }\n",
       "\n",
       "    .dataframe thead th {\n",
       "        text-align: right;\n",
       "    }\n",
       "</style>\n",
       "<table border=\"1\" class=\"dataframe\">\n",
       "  <thead>\n",
       "    <tr style=\"text-align: right;\">\n",
       "      <th></th>\n",
       "      <th>INJURED_RK</th>\n",
       "      <th>Claim_RK</th>\n",
       "      <th>Policy_RK</th>\n",
       "      <th>BundleSubtype2</th>\n",
       "      <th>illness_code</th>\n",
       "      <th>illness_desc</th>\n",
       "      <th>DiagnosisCode_DESC</th>\n",
       "      <th>claim_settle_dt</th>\n",
       "      <th>REIMBURSED_YR_TW</th>\n",
       "      <th>INSURED_RK</th>\n",
       "      <th>POLICY_HOLDER_RK</th>\n",
       "      <th>MATURITY_BENEFICIARY_RK</th>\n",
       "      <th>DEATH_BENEFICIARY_RK</th>\n",
       "    </tr>\n",
       "  </thead>\n",
       "  <tbody>\n",
       "    <tr>\n",
       "      <th>234423</th>\n",
       "      <td>249733</td>\n",
       "      <td>30121</td>\n",
       "      <td>166605</td>\n",
       "      <td>6.N意外醫療</td>\n",
       "      <td>Y99.8</td>\n",
       "      <td>其他外因狀態</td>\n",
       "      <td>99.不知道不想猜</td>\n",
       "      <td>2015-07-09</td>\n",
       "      <td>33600.0</td>\n",
       "      <td>249733</td>\n",
       "      <td>250207</td>\n",
       "      <td>NaN</td>\n",
       "      <td>250207.0</td>\n",
       "    </tr>\n",
       "    <tr>\n",
       "      <th>234424</th>\n",
       "      <td>249733</td>\n",
       "      <td>86463</td>\n",
       "      <td>166605</td>\n",
       "      <td>5.N疾病醫療</td>\n",
       "      <td>D33</td>\n",
       "      <td>大腦及中樞神經系統其他部位之良性腫瘤</td>\n",
       "      <td>02.腫瘤</td>\n",
       "      <td>2016-11-02</td>\n",
       "      <td>231.0</td>\n",
       "      <td>249733</td>\n",
       "      <td>250207</td>\n",
       "      <td>NaN</td>\n",
       "      <td>250207.0</td>\n",
       "    </tr>\n",
       "    <tr>\n",
       "      <th>234425</th>\n",
       "      <td>249733</td>\n",
       "      <td>109718</td>\n",
       "      <td>166605</td>\n",
       "      <td>6.N意外醫療</td>\n",
       "      <td>Z04.2</td>\n",
       "      <td>來院接受對工作意外後之檢查及觀察</td>\n",
       "      <td>21.影響健康狀態與保健機構接觸的</td>\n",
       "      <td>2017-02-11</td>\n",
       "      <td>1163.4</td>\n",
       "      <td>249733</td>\n",
       "      <td>250207</td>\n",
       "      <td>NaN</td>\n",
       "      <td>250207.0</td>\n",
       "    </tr>\n",
       "    <tr>\n",
       "      <th>234426</th>\n",
       "      <td>249733</td>\n",
       "      <td>204841</td>\n",
       "      <td>166605</td>\n",
       "      <td>6.N意外醫療</td>\n",
       "      <td>V23</td>\n",
       "      <td>摩拖車騎士與汽車，小貨車或箱型車碰撞受傷</td>\n",
       "      <td>20.疾病和死亡的外因</td>\n",
       "      <td>2017-10-29</td>\n",
       "      <td>12478.2</td>\n",
       "      <td>249733</td>\n",
       "      <td>250207</td>\n",
       "      <td>NaN</td>\n",
       "      <td>250207.0</td>\n",
       "    </tr>\n",
       "    <tr>\n",
       "      <th>234427</th>\n",
       "      <td>249795</td>\n",
       "      <td>189792</td>\n",
       "      <td>97319</td>\n",
       "      <td>5.N疾病醫療</td>\n",
       "      <td>K05</td>\n",
       "      <td>齒齦炎及牙周疾病</td>\n",
       "      <td>11.消化系統疾病</td>\n",
       "      <td>2017-09-20</td>\n",
       "      <td>3307.5</td>\n",
       "      <td>249795</td>\n",
       "      <td>249795</td>\n",
       "      <td>249795.0</td>\n",
       "      <td>NaN</td>\n",
       "    </tr>\n",
       "  </tbody>\n",
       "</table>\n",
       "</div>"
      ],
      "text/plain": [
       "        INJURED_RK  Claim_RK  Policy_RK BundleSubtype2 illness_code  \\\n",
       "234423      249733     30121     166605        6.N意外醫療        Y99.8   \n",
       "234424      249733     86463     166605        5.N疾病醫療          D33   \n",
       "234425      249733    109718     166605        6.N意外醫療        Z04.2   \n",
       "234426      249733    204841     166605        6.N意外醫療          V23   \n",
       "234427      249795    189792      97319        5.N疾病醫療          K05   \n",
       "\n",
       "                illness_desc DiagnosisCode_DESC claim_settle_dt  \\\n",
       "234423                其他外因狀態          99.不知道不想猜      2015-07-09   \n",
       "234424    大腦及中樞神經系統其他部位之良性腫瘤              02.腫瘤      2016-11-02   \n",
       "234425      來院接受對工作意外後之檢查及觀察  21.影響健康狀態與保健機構接觸的      2017-02-11   \n",
       "234426  摩拖車騎士與汽車，小貨車或箱型車碰撞受傷        20.疾病和死亡的外因      2017-10-29   \n",
       "234427              齒齦炎及牙周疾病          11.消化系統疾病      2017-09-20   \n",
       "\n",
       "        REIMBURSED_YR_TW  INSURED_RK  POLICY_HOLDER_RK  \\\n",
       "234423           33600.0      249733            250207   \n",
       "234424             231.0      249733            250207   \n",
       "234425            1163.4      249733            250207   \n",
       "234426           12478.2      249733            250207   \n",
       "234427            3307.5      249795            249795   \n",
       "\n",
       "        MATURITY_BENEFICIARY_RK  DEATH_BENEFICIARY_RK  \n",
       "234423                      NaN              250207.0  \n",
       "234424                      NaN              250207.0  \n",
       "234425                      NaN              250207.0  \n",
       "234426                      NaN              250207.0  \n",
       "234427                 249795.0                   NaN  "
      ]
     },
     "execution_count": 208,
     "metadata": {},
     "output_type": "execute_result"
    }
   ],
   "source": [
    "df.tail()"
   ]
  },
  {
   "cell_type": "code",
   "execution_count": 205,
   "metadata": {},
   "outputs": [],
   "source": [
    "df3 = df.set_index(['POLICY_HOLDER_RK','Policy_RK']).sort_values(['POLICY_HOLDER_RK','Policy_RK','claim_settle_dt'])\n",
    "df3['計數'] = 1\n",
    "df3['累積理賠金額'] = df3.groupby('Policy_RK')['REIMBURSED_YR_TW'].transform('cumsum')\n",
    "df3['初次理賠時間'] = df3.groupby('Policy_RK')['claim_settle_dt'].transform(min)\n",
    "df3['累積理賠次數'] = df3.groupby('Policy_RK')['計數'].transform('cumsum')\n",
    "df3 = df3.drop(columns=['計數'])"
   ]
  },
  {
   "cell_type": "code",
   "execution_count": 220,
   "metadata": {},
   "outputs": [],
   "source": [
    "df3.to_excel('ready_CLAIM_ACCT_FIN.xlsx')"
   ]
  },
  {
   "cell_type": "code",
   "execution_count": 213,
   "metadata": {},
   "outputs": [],
   "source": [
    "# df3 = df3.loc[~df3.index.duplicated(keep='last')]\n",
    "# df3 = df3.groupby(level=df3.index.names)  \n",
    "# df3 = df3.last()\n",
    "# df3"
   ]
  },
  {
   "cell_type": "code",
   "execution_count": 218,
   "metadata": {},
   "outputs": [],
   "source": [
    "df3['結案後120天'] = df3['claim_settle_dt'] + dt.timedelta(days=120)\n",
    "df3['結案後180天'] = df3['claim_settle_dt'] + dt.timedelta(days=180)\n",
    "df3['結案後360天'] = df3['claim_settle_dt'] + dt.timedelta(days=360)"
   ]
  },
  {
   "cell_type": "code",
   "execution_count": 219,
   "metadata": {},
   "outputs": [
    {
     "data": {
      "text/html": [
       "<div>\n",
       "<style scoped>\n",
       "    .dataframe tbody tr th:only-of-type {\n",
       "        vertical-align: middle;\n",
       "    }\n",
       "\n",
       "    .dataframe tbody tr th {\n",
       "        vertical-align: top;\n",
       "    }\n",
       "\n",
       "    .dataframe thead th {\n",
       "        text-align: right;\n",
       "    }\n",
       "</style>\n",
       "<table border=\"1\" class=\"dataframe\">\n",
       "  <thead>\n",
       "    <tr style=\"text-align: right;\">\n",
       "      <th></th>\n",
       "      <th>INJURED_RK</th>\n",
       "      <th>Claim_RK</th>\n",
       "      <th>BundleSubtype2</th>\n",
       "      <th>illness_code</th>\n",
       "      <th>illness_desc</th>\n",
       "      <th>DiagnosisCode_DESC</th>\n",
       "      <th>claim_settle_dt</th>\n",
       "      <th>REIMBURSED_YR_TW</th>\n",
       "      <th>INSURED_RK</th>\n",
       "      <th>MATURITY_BENEFICIARY_RK</th>\n",
       "      <th>DEATH_BENEFICIARY_RK</th>\n",
       "      <th>累積理賠金額</th>\n",
       "      <th>初次理賠時間</th>\n",
       "      <th>累積理賠次數</th>\n",
       "      <th>結案後120天</th>\n",
       "      <th>結案後180天</th>\n",
       "      <th>結案後360天</th>\n",
       "    </tr>\n",
       "    <tr>\n",
       "      <th>Policy_RK</th>\n",
       "      <th></th>\n",
       "      <th></th>\n",
       "      <th></th>\n",
       "      <th></th>\n",
       "      <th></th>\n",
       "      <th></th>\n",
       "      <th></th>\n",
       "      <th></th>\n",
       "      <th></th>\n",
       "      <th></th>\n",
       "      <th></th>\n",
       "      <th></th>\n",
       "      <th></th>\n",
       "      <th></th>\n",
       "      <th></th>\n",
       "      <th></th>\n",
       "      <th></th>\n",
       "    </tr>\n",
       "  </thead>\n",
       "  <tbody>\n",
       "    <tr>\n",
       "      <th>105429</th>\n",
       "      <td>130950</td>\n",
       "      <td>160458</td>\n",
       "      <td>5.N疾病醫療</td>\n",
       "      <td>C57</td>\n",
       "      <td>其他及未明示女性生殖器官之惡性腫瘤</td>\n",
       "      <td>02.腫瘤</td>\n",
       "      <td>2017-07-05</td>\n",
       "      <td>16800.0</td>\n",
       "      <td>130950</td>\n",
       "      <td>NaN</td>\n",
       "      <td>NaN</td>\n",
       "      <td>202650.0</td>\n",
       "      <td>2015-09-04</td>\n",
       "      <td>21</td>\n",
       "      <td>2017-11-02</td>\n",
       "      <td>2018-01-01</td>\n",
       "      <td>2018-06-30</td>\n",
       "    </tr>\n",
       "    <tr>\n",
       "      <th>105429</th>\n",
       "      <td>130950</td>\n",
       "      <td>169555</td>\n",
       "      <td>5.N疾病醫療</td>\n",
       "      <td>C57</td>\n",
       "      <td>其他及未明示女性生殖器官之惡性腫瘤</td>\n",
       "      <td>02.腫瘤</td>\n",
       "      <td>2017-07-28</td>\n",
       "      <td>16800.0</td>\n",
       "      <td>130950</td>\n",
       "      <td>NaN</td>\n",
       "      <td>NaN</td>\n",
       "      <td>219450.0</td>\n",
       "      <td>2015-09-04</td>\n",
       "      <td>22</td>\n",
       "      <td>2017-11-25</td>\n",
       "      <td>2018-01-24</td>\n",
       "      <td>2018-07-23</td>\n",
       "    </tr>\n",
       "    <tr>\n",
       "      <th>105429</th>\n",
       "      <td>130950</td>\n",
       "      <td>178279</td>\n",
       "      <td>5.N疾病醫療</td>\n",
       "      <td>C57</td>\n",
       "      <td>其他及未明示女性生殖器官之惡性腫瘤</td>\n",
       "      <td>02.腫瘤</td>\n",
       "      <td>2017-08-19</td>\n",
       "      <td>23100.0</td>\n",
       "      <td>130950</td>\n",
       "      <td>NaN</td>\n",
       "      <td>NaN</td>\n",
       "      <td>242550.0</td>\n",
       "      <td>2015-09-04</td>\n",
       "      <td>23</td>\n",
       "      <td>2017-12-17</td>\n",
       "      <td>2018-02-15</td>\n",
       "      <td>2018-08-14</td>\n",
       "    </tr>\n",
       "    <tr>\n",
       "      <th>105429</th>\n",
       "      <td>130950</td>\n",
       "      <td>187467</td>\n",
       "      <td>5.N疾病醫療</td>\n",
       "      <td>C57</td>\n",
       "      <td>其他及未明示女性生殖器官之惡性腫瘤</td>\n",
       "      <td>02.腫瘤</td>\n",
       "      <td>2017-09-13</td>\n",
       "      <td>30450.0</td>\n",
       "      <td>130950</td>\n",
       "      <td>NaN</td>\n",
       "      <td>NaN</td>\n",
       "      <td>273000.0</td>\n",
       "      <td>2015-09-04</td>\n",
       "      <td>24</td>\n",
       "      <td>2018-01-11</td>\n",
       "      <td>2018-03-12</td>\n",
       "      <td>2018-09-08</td>\n",
       "    </tr>\n",
       "    <tr>\n",
       "      <th>105429</th>\n",
       "      <td>130950</td>\n",
       "      <td>222326</td>\n",
       "      <td>5.N疾病醫療</td>\n",
       "      <td>C57</td>\n",
       "      <td>其他及未明示女性生殖器官之惡性腫瘤</td>\n",
       "      <td>02.腫瘤</td>\n",
       "      <td>2017-12-14</td>\n",
       "      <td>18900.0</td>\n",
       "      <td>130950</td>\n",
       "      <td>NaN</td>\n",
       "      <td>NaN</td>\n",
       "      <td>291900.0</td>\n",
       "      <td>2015-09-04</td>\n",
       "      <td>25</td>\n",
       "      <td>2018-04-13</td>\n",
       "      <td>2018-06-12</td>\n",
       "      <td>2018-12-09</td>\n",
       "    </tr>\n",
       "  </tbody>\n",
       "</table>\n",
       "</div>"
      ],
      "text/plain": [
       "           INJURED_RK  Claim_RK BundleSubtype2 illness_code  \\\n",
       "Policy_RK                                                     \n",
       "105429         130950    160458        5.N疾病醫療          C57   \n",
       "105429         130950    169555        5.N疾病醫療          C57   \n",
       "105429         130950    178279        5.N疾病醫療          C57   \n",
       "105429         130950    187467        5.N疾病醫療          C57   \n",
       "105429         130950    222326        5.N疾病醫療          C57   \n",
       "\n",
       "                illness_desc DiagnosisCode_DESC claim_settle_dt  \\\n",
       "Policy_RK                                                         \n",
       "105429     其他及未明示女性生殖器官之惡性腫瘤              02.腫瘤      2017-07-05   \n",
       "105429     其他及未明示女性生殖器官之惡性腫瘤              02.腫瘤      2017-07-28   \n",
       "105429     其他及未明示女性生殖器官之惡性腫瘤              02.腫瘤      2017-08-19   \n",
       "105429     其他及未明示女性生殖器官之惡性腫瘤              02.腫瘤      2017-09-13   \n",
       "105429     其他及未明示女性生殖器官之惡性腫瘤              02.腫瘤      2017-12-14   \n",
       "\n",
       "           REIMBURSED_YR_TW  INSURED_RK  MATURITY_BENEFICIARY_RK  \\\n",
       "Policy_RK                                                          \n",
       "105429              16800.0      130950                      NaN   \n",
       "105429              16800.0      130950                      NaN   \n",
       "105429              23100.0      130950                      NaN   \n",
       "105429              30450.0      130950                      NaN   \n",
       "105429              18900.0      130950                      NaN   \n",
       "\n",
       "           DEATH_BENEFICIARY_RK    累積理賠金額     初次理賠時間  累積理賠次數    結案後120天  \\\n",
       "Policy_RK                                                                 \n",
       "105429                      NaN  202650.0 2015-09-04      21 2017-11-02   \n",
       "105429                      NaN  219450.0 2015-09-04      22 2017-11-25   \n",
       "105429                      NaN  242550.0 2015-09-04      23 2017-12-17   \n",
       "105429                      NaN  273000.0 2015-09-04      24 2018-01-11   \n",
       "105429                      NaN  291900.0 2015-09-04      25 2018-04-13   \n",
       "\n",
       "             結案後180天    結案後360天  \n",
       "Policy_RK                        \n",
       "105429    2018-01-01 2018-06-30  \n",
       "105429    2018-01-24 2018-07-23  \n",
       "105429    2018-02-15 2018-08-14  \n",
       "105429    2018-03-12 2018-09-08  \n",
       "105429    2018-06-12 2018-12-09  "
      ]
     },
     "execution_count": 219,
     "metadata": {},
     "output_type": "execute_result"
    }
   ],
   "source": [
    "df3.loc[130950].tail()"
   ]
  },
  {
   "cell_type": "markdown",
   "metadata": {},
   "source": [
    "# 再購資料匯入"
   ]
  },
  {
   "cell_type": "code",
   "execution_count": 84,
   "metadata": {},
   "outputs": [],
   "source": [
    "df4 = pd.read_excel(\"COV_ACCT_FIN.xlsx\")"
   ]
  },
  {
   "cell_type": "code",
   "execution_count": 122,
   "metadata": {},
   "outputs": [
    {
     "data": {
      "text/html": [
       "<div>\n",
       "<style scoped>\n",
       "    .dataframe tbody tr th:only-of-type {\n",
       "        vertical-align: middle;\n",
       "    }\n",
       "\n",
       "    .dataframe tbody tr th {\n",
       "        vertical-align: top;\n",
       "    }\n",
       "\n",
       "    .dataframe thead th {\n",
       "        text-align: right;\n",
       "    }\n",
       "</style>\n",
       "<table border=\"1\" class=\"dataframe\">\n",
       "  <thead>\n",
       "    <tr style=\"text-align: right;\">\n",
       "      <th></th>\n",
       "      <th>INSURED_RK</th>\n",
       "      <th>Policy_RK</th>\n",
       "      <th>RIDER_CD</th>\n",
       "      <th>payment_period</th>\n",
       "      <th>EFFECTIVE_DT</th>\n",
       "      <th>SHORT_NAME</th>\n",
       "      <th>prod_detail2</th>\n",
       "      <th>POLICY_HOLDER_RK</th>\n",
       "      <th>AFYP_NT</th>\n",
       "      <th>MATURITY_BENEFICIARY_RK</th>\n",
       "      <th>DEATH_BENEFICIARY_RK</th>\n",
       "    </tr>\n",
       "  </thead>\n",
       "  <tbody>\n",
       "    <tr>\n",
       "      <th>12111</th>\n",
       "      <td>23125</td>\n",
       "      <td>179173</td>\n",
       "      <td>0</td>\n",
       "      <td>月繳</td>\n",
       "      <td>2018-11-24</td>\n",
       "      <td>PAR</td>\n",
       "      <td>AHc</td>\n",
       "      <td>4</td>\n",
       "      <td>1953.00</td>\n",
       "      <td>23125.0</td>\n",
       "      <td>NaN</td>\n",
       "    </tr>\n",
       "    <tr>\n",
       "      <th>12112</th>\n",
       "      <td>23125</td>\n",
       "      <td>179173</td>\n",
       "      <td>1</td>\n",
       "      <td>月繳</td>\n",
       "      <td>2018-11-24</td>\n",
       "      <td>PDD</td>\n",
       "      <td>AHb</td>\n",
       "      <td>4</td>\n",
       "      <td>7585.20</td>\n",
       "      <td>23125.0</td>\n",
       "      <td>NaN</td>\n",
       "    </tr>\n",
       "    <tr>\n",
       "      <th>12110</th>\n",
       "      <td>23125</td>\n",
       "      <td>179173</td>\n",
       "      <td>0</td>\n",
       "      <td>月繳</td>\n",
       "      <td>2018-11-24</td>\n",
       "      <td>HIR</td>\n",
       "      <td>AHa</td>\n",
       "      <td>4</td>\n",
       "      <td>1965.60</td>\n",
       "      <td>23125.0</td>\n",
       "      <td>NaN</td>\n",
       "    </tr>\n",
       "    <tr>\n",
       "      <th>13965</th>\n",
       "      <td>26347</td>\n",
       "      <td>56714</td>\n",
       "      <td>0</td>\n",
       "      <td>月繳</td>\n",
       "      <td>2017-10-29</td>\n",
       "      <td>PAR</td>\n",
       "      <td>AHc</td>\n",
       "      <td>4</td>\n",
       "      <td>3969.00</td>\n",
       "      <td>26347.0</td>\n",
       "      <td>NaN</td>\n",
       "    </tr>\n",
       "    <tr>\n",
       "      <th>12107</th>\n",
       "      <td>23125</td>\n",
       "      <td>179172</td>\n",
       "      <td>1</td>\n",
       "      <td>月繳</td>\n",
       "      <td>2018-11-24</td>\n",
       "      <td>CAB</td>\n",
       "      <td>AHb</td>\n",
       "      <td>4</td>\n",
       "      <td>7207.20</td>\n",
       "      <td>NaN</td>\n",
       "      <td>NaN</td>\n",
       "    </tr>\n",
       "    <tr>\n",
       "      <th>...</th>\n",
       "      <td>...</td>\n",
       "      <td>...</td>\n",
       "      <td>...</td>\n",
       "      <td>...</td>\n",
       "      <td>...</td>\n",
       "      <td>...</td>\n",
       "      <td>...</td>\n",
       "      <td>...</td>\n",
       "      <td>...</td>\n",
       "      <td>...</td>\n",
       "      <td>...</td>\n",
       "    </tr>\n",
       "    <tr>\n",
       "      <th>134471</th>\n",
       "      <td>251945</td>\n",
       "      <td>177625</td>\n",
       "      <td>1</td>\n",
       "      <td>躉繳保費</td>\n",
       "      <td>2018-08-31</td>\n",
       "      <td>BVA</td>\n",
       "      <td>ILP</td>\n",
       "      <td>251945</td>\n",
       "      <td>315000.00</td>\n",
       "      <td>NaN</td>\n",
       "      <td>120128.0</td>\n",
       "    </tr>\n",
       "    <tr>\n",
       "      <th>79402</th>\n",
       "      <td>134583</td>\n",
       "      <td>90488</td>\n",
       "      <td>1</td>\n",
       "      <td>年繳</td>\n",
       "      <td>2017-08-31</td>\n",
       "      <td>NPHI</td>\n",
       "      <td>AHa</td>\n",
       "      <td>251951</td>\n",
       "      <td>12852.00</td>\n",
       "      <td>251951.0</td>\n",
       "      <td>251951.0</td>\n",
       "    </tr>\n",
       "    <tr>\n",
       "      <th>79556</th>\n",
       "      <td>134869</td>\n",
       "      <td>90491</td>\n",
       "      <td>1</td>\n",
       "      <td>年繳</td>\n",
       "      <td>2017-09-08</td>\n",
       "      <td>NPHI</td>\n",
       "      <td>AHa</td>\n",
       "      <td>251951</td>\n",
       "      <td>12295.50</td>\n",
       "      <td>251951.0</td>\n",
       "      <td>251951.0</td>\n",
       "    </tr>\n",
       "    <tr>\n",
       "      <th>79401</th>\n",
       "      <td>134583</td>\n",
       "      <td>90488</td>\n",
       "      <td>0</td>\n",
       "      <td>年繳</td>\n",
       "      <td>2017-08-31</td>\n",
       "      <td>N1TR</td>\n",
       "      <td>REG</td>\n",
       "      <td>251951</td>\n",
       "      <td>1037.40</td>\n",
       "      <td>251951.0</td>\n",
       "      <td>251951.0</td>\n",
       "    </tr>\n",
       "    <tr>\n",
       "      <th>79555</th>\n",
       "      <td>134869</td>\n",
       "      <td>90491</td>\n",
       "      <td>0</td>\n",
       "      <td>年繳</td>\n",
       "      <td>2017-09-08</td>\n",
       "      <td>N1TR</td>\n",
       "      <td>REG</td>\n",
       "      <td>251951</td>\n",
       "      <td>937.65</td>\n",
       "      <td>251951.0</td>\n",
       "      <td>251951.0</td>\n",
       "    </tr>\n",
       "  </tbody>\n",
       "</table>\n",
       "<p>134472 rows × 11 columns</p>\n",
       "</div>"
      ],
      "text/plain": [
       "        INSURED_RK  Policy_RK  RIDER_CD payment_period EFFECTIVE_DT  \\\n",
       "12111        23125     179173         0             月繳   2018-11-24   \n",
       "12112        23125     179173         1             月繳   2018-11-24   \n",
       "12110        23125     179173         0             月繳   2018-11-24   \n",
       "13965        26347      56714         0             月繳   2017-10-29   \n",
       "12107        23125     179172         1             月繳   2018-11-24   \n",
       "...            ...        ...       ...            ...          ...   \n",
       "134471      251945     177625         1           躉繳保費   2018-08-31   \n",
       "79402       134583      90488         1             年繳   2017-08-31   \n",
       "79556       134869      90491         1             年繳   2017-09-08   \n",
       "79401       134583      90488         0             年繳   2017-08-31   \n",
       "79555       134869      90491         0             年繳   2017-09-08   \n",
       "\n",
       "       SHORT_NAME prod_detail2  POLICY_HOLDER_RK    AFYP_NT  \\\n",
       "12111         PAR          AHc                 4    1953.00   \n",
       "12112         PDD          AHb                 4    7585.20   \n",
       "12110         HIR          AHa                 4    1965.60   \n",
       "13965         PAR          AHc                 4    3969.00   \n",
       "12107         CAB          AHb                 4    7207.20   \n",
       "...           ...          ...               ...        ...   \n",
       "134471        BVA          ILP            251945  315000.00   \n",
       "79402        NPHI          AHa            251951   12852.00   \n",
       "79556        NPHI          AHa            251951   12295.50   \n",
       "79401        N1TR          REG            251951    1037.40   \n",
       "79555        N1TR          REG            251951     937.65   \n",
       "\n",
       "        MATURITY_BENEFICIARY_RK  DEATH_BENEFICIARY_RK  \n",
       "12111                   23125.0                   NaN  \n",
       "12112                   23125.0                   NaN  \n",
       "12110                   23125.0                   NaN  \n",
       "13965                   26347.0                   NaN  \n",
       "12107                       NaN                   NaN  \n",
       "...                         ...                   ...  \n",
       "134471                      NaN              120128.0  \n",
       "79402                  251951.0              251951.0  \n",
       "79556                  251951.0              251951.0  \n",
       "79401                  251951.0              251951.0  \n",
       "79555                  251951.0              251951.0  \n",
       "\n",
       "[134472 rows x 11 columns]"
      ]
     },
     "execution_count": 122,
     "metadata": {},
     "output_type": "execute_result"
    }
   ],
   "source": [
    "df4.sort_values('POLICY_HOLDER_RK')"
   ]
  },
  {
   "cell_type": "markdown",
   "metadata": {},
   "source": [
    "# 要vs要 合併"
   ]
  },
  {
   "cell_type": "code",
   "execution_count": 271,
   "metadata": {},
   "outputs": [
    {
     "data": {
      "text/plain": [
       "11055"
      ]
     },
     "execution_count": 271,
     "metadata": {},
     "output_type": "execute_result"
    }
   ],
   "source": [
    "df3['再購(120天)'].sum()"
   ]
  },
  {
   "cell_type": "code",
   "execution_count": 262,
   "metadata": {},
   "outputs": [
    {
     "name": "stdout",
     "output_type": "stream",
     "text": [
      "第0筆資料已標記!!\n",
      "第10000筆資料已標記!!\n",
      "第20000筆資料已標記!!\n",
      "第30000筆資料已標記!!\n",
      "第40000筆資料已標記!!\n",
      "第50000筆資料已標記!!\n",
      "第60000筆資料已標記!!\n",
      "第70000筆資料已標記!!\n",
      "第80000筆資料已標記!!\n",
      "第90000筆資料已標記!!\n",
      "第100000筆資料已標記!!\n",
      "第110000筆資料已標記!!\n",
      "第120000筆資料已標記!!\n",
      "第130000筆資料已標記!!\n",
      "第140000筆資料已標記!!\n",
      "第150000筆資料已標記!!\n",
      "第160000筆資料已標記!!\n",
      "第170000筆資料已標記!!\n",
      "第180000筆資料已標記!!\n",
      "第190000筆資料已標記!!\n",
      "第200000筆資料已標記!!\n",
      "第210000筆資料已標記!!\n",
      "第220000筆資料已標記!!\n",
      "第230000筆資料已標記!!\n"
     ]
    }
   ],
   "source": [
    "df3['再購(180天)'] = 0 \n",
    "for i in range(len(df3.index)):\n",
    "    time_list = df4[df4['POLICY_HOLDER_RK']==df3.index[i][0]]['EFFECTIVE_DT'].unique()\n",
    "    for time in time_list:\n",
    "        if (df3.iloc[i,6] < time) and (time < df3.iloc[i,15]):\n",
    "            df3.iloc[i,18] = 1\n",
    "            break\n",
    "    if i % 10000 == 0:\n",
    "        print(\"第{}筆資料已標記!!\".format(i))"
   ]
  },
  {
   "cell_type": "code",
   "execution_count": 263,
   "metadata": {},
   "outputs": [
    {
     "data": {
      "text/plain": [
       "14864"
      ]
     },
     "execution_count": 263,
     "metadata": {},
     "output_type": "execute_result"
    }
   ],
   "source": [
    "df3['再購(180天)'].sum()"
   ]
  },
  {
   "cell_type": "code",
   "execution_count": 269,
   "metadata": {},
   "outputs": [
    {
     "name": "stdout",
     "output_type": "stream",
     "text": [
      "第0筆資料已標記!!\n",
      "第10000筆資料已標記!!\n",
      "第20000筆資料已標記!!\n",
      "第30000筆資料已標記!!\n",
      "第40000筆資料已標記!!\n",
      "第50000筆資料已標記!!\n",
      "第60000筆資料已標記!!\n",
      "第70000筆資料已標記!!\n",
      "第80000筆資料已標記!!\n",
      "第90000筆資料已標記!!\n",
      "第100000筆資料已標記!!\n",
      "第110000筆資料已標記!!\n",
      "第120000筆資料已標記!!\n",
      "第130000筆資料已標記!!\n",
      "第140000筆資料已標記!!\n",
      "第150000筆資料已標記!!\n",
      "第160000筆資料已標記!!\n",
      "第170000筆資料已標記!!\n",
      "第180000筆資料已標記!!\n",
      "第190000筆資料已標記!!\n",
      "第200000筆資料已標記!!\n",
      "第210000筆資料已標記!!\n",
      "第220000筆資料已標記!!\n",
      "第230000筆資料已標記!!\n"
     ]
    }
   ],
   "source": [
    "df3['再購(360天)'] = 0 \n",
    "for i in range(len(df3.index)):\n",
    "    time_list = df4[df4['POLICY_HOLDER_RK']==df3.index[i][0]]['EFFECTIVE_DT'].unique()\n",
    "    for time in time_list:\n",
    "        if (df3.iloc[i,6] < time) and (time < df3.iloc[i,16]):\n",
    "            df3.iloc[i,19] = 1\n",
    "            break\n",
    "    if i % 10000 == 0:\n",
    "        print(\"第{}筆資料已標記!!\".format(i))"
   ]
  },
  {
   "cell_type": "markdown",
   "metadata": {},
   "source": [
    "# 合併資料分析"
   ]
  },
  {
   "cell_type": "code",
   "execution_count": 270,
   "metadata": {},
   "outputs": [
    {
     "data": {
      "text/plain": [
       "25176"
      ]
     },
     "execution_count": 270,
     "metadata": {},
     "output_type": "execute_result"
    }
   ],
   "source": [
    "df3['再購(360天)'].sum()"
   ]
  },
  {
   "cell_type": "code",
   "execution_count": 273,
   "metadata": {},
   "outputs": [],
   "source": [
    "# df3.to_excel('理賠(標記).xlsx')"
   ]
  },
  {
   "cell_type": "code",
   "execution_count": 320,
   "metadata": {},
   "outputs": [
    {
     "name": "stdout",
     "output_type": "stream",
     "text": [
      "120天再購率: 0.04715733615438429\n",
      "360天再購率: 0.10739331479174842\n"
     ]
    }
   ],
   "source": [
    "print('120天再購率: {}'.format(df3['再購(120天)'].sum()/df3['再購(120天)'].count()))\n",
    "print('360天再購率: {}'.format(df3['再購(360天)'].sum()/df3['再購(360天)'].count()))"
   ]
  },
  {
   "cell_type": "code",
   "execution_count": 313,
   "metadata": {},
   "outputs": [
    {
     "name": "stdout",
     "output_type": "stream",
     "text": [
      "2014年理賠數: 173\n",
      "2015年理賠數: 40438\n",
      "2016年理賠數: 49556\n",
      "2017年理賠數: 144261\n"
     ]
    }
   ],
   "source": [
    "print('2014年理賠數: {}'.format(df3[df3['claim_settle_dt'].dt.year == 2014]['Claim_RK'].count()))\n",
    "print('2015年理賠數: {}'.format(df3[df3['claim_settle_dt'].dt.year == 2015]['Claim_RK'].count()))\n",
    "print('2016年理賠數: {}'.format(df3[df3['claim_settle_dt'].dt.year == 2016]['Claim_RK'].count()))\n",
    "print('2017年理賠數: {}'.format(df3[df3['claim_settle_dt'].dt.year == 2017]['Claim_RK'].count()))"
   ]
  },
  {
   "cell_type": "code",
   "execution_count": 308,
   "metadata": {},
   "outputs": [
    {
     "data": {
      "text/plain": [
       "0.1285016705217168"
      ]
     },
     "execution_count": 308,
     "metadata": {},
     "output_type": "execute_result"
    }
   ],
   "source": [
    "# 2016年理賠 120 days 佔 360 days比例\n",
    "df3[df3['claim_settle_dt'].dt.year == 2016]['再購(120天)'].sum() / df3[df3['claim_settle_dt'].dt.year == 2016]['再購(360天)'].sum()"
   ]
  },
  {
   "cell_type": "code",
   "execution_count": 321,
   "metadata": {},
   "outputs": [
    {
     "data": {
      "text/plain": [
       "0.010089595609007991"
      ]
     },
     "execution_count": 321,
     "metadata": {},
     "output_type": "execute_result"
    }
   ],
   "source": [
    "# 2016年理賠 120 days 再購率\n",
    "df3[df3['claim_settle_dt'].dt.year == 2016]['再購(120天)'].sum() / df3[df3['claim_settle_dt'].dt.year == 2016]['再購(120天)'].count()"
   ]
  },
  {
   "cell_type": "code",
   "execution_count": 322,
   "metadata": {},
   "outputs": [
    {
     "data": {
      "text/plain": [
       "0.07851723302930018"
      ]
     },
     "execution_count": 322,
     "metadata": {},
     "output_type": "execute_result"
    }
   ],
   "source": [
    "# 2016年理賠 360 days 再購率\n",
    "df3[df3['claim_settle_dt'].dt.year == 2016]['再購(360天)'].sum() / df3[df3['claim_settle_dt'].dt.year == 2016]['再購(360天)'].count()"
   ]
  },
  {
   "cell_type": "code",
   "execution_count": 309,
   "metadata": {},
   "outputs": [
    {
     "data": {
      "text/plain": [
       "0.49588912379610056"
      ]
     },
     "execution_count": 309,
     "metadata": {},
     "output_type": "execute_result"
    }
   ],
   "source": [
    "# 2017年理賠 120 days 佔 360 days比例\n",
    "df3[df3['claim_settle_dt'].dt.year == 2017]['再購(120天)'].sum() / df3[df3['claim_settle_dt'].dt.year == 2017]['再購(360天)'].sum()"
   ]
  },
  {
   "cell_type": "code",
   "execution_count": 323,
   "metadata": {},
   "outputs": [
    {
     "data": {
      "text/plain": [
       "0.07316599774020699"
      ]
     },
     "execution_count": 323,
     "metadata": {},
     "output_type": "execute_result"
    }
   ],
   "source": [
    "# 2017年理賠 120 days 再購率\n",
    "df3[df3['claim_settle_dt'].dt.year == 2017]['再購(120天)'].sum() / df3[df3['claim_settle_dt'].dt.year == 2017]['再購(120天)'].count()"
   ]
  },
  {
   "cell_type": "code",
   "execution_count": 324,
   "metadata": {},
   "outputs": [
    {
     "data": {
      "text/plain": [
       "0.1475450745523738"
      ]
     },
     "execution_count": 324,
     "metadata": {},
     "output_type": "execute_result"
    }
   ],
   "source": [
    "# 2016年理賠 360 days 再購率\n",
    "df3[df3['claim_settle_dt'].dt.year == 2017]['再購(360天)'].sum() / df3[df3['claim_settle_dt'].dt.year == 2017]['再購(360天)'].count()"
   ]
  },
  {
   "cell_type": "code",
   "execution_count": 317,
   "metadata": {},
   "outputs": [
    {
     "data": {
      "text/plain": [
       "0.43910867492850336"
      ]
     },
     "execution_count": 317,
     "metadata": {},
     "output_type": "execute_result"
    }
   ],
   "source": [
    "# 2016,2017年理賠 120 days 佔 360 days比例\n",
    "d120_sum = df3[(df3['claim_settle_dt'].dt.year == 2017) | (df3['claim_settle_dt'].dt.year == 2016)]['再購(120天)'].sum() \n",
    "d360_sum = df3[(df3['claim_settle_dt'].dt.year == 2017) | (df3['claim_settle_dt'].dt.year == 2016)]['再購(360天)'].sum()\n",
    "d120_sum/d360_sum"
   ]
  },
  {
   "cell_type": "code",
   "execution_count": null,
   "metadata": {},
   "outputs": [],
   "source": []
  }
 ],
 "metadata": {
  "kernelspec": {
   "display_name": "Python 3",
   "language": "python",
   "name": "python3"
  },
  "language_info": {
   "codemirror_mode": {
    "name": "ipython",
    "version": 3
   },
   "file_extension": ".py",
   "mimetype": "text/x-python",
   "name": "python",
   "nbconvert_exporter": "python",
   "pygments_lexer": "ipython3",
   "version": "3.7.6"
  }
 },
 "nbformat": 4,
 "nbformat_minor": 4
}
